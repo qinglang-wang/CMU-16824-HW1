{
 "cells": [
  {
   "cell_type": "code",
   "execution_count": null,
   "id": "873fc5b5",
   "metadata": {},
   "outputs": [],
   "source": [
    "import torch\n",
    "import numpy as np\n",
    "from sklearn.manifold import TSNE\n",
    "import matplotlib.pyplot as plt\n",
    "import matplotlib.patches as mpatches\n",
    "import utils\n",
    "from voc_dataset import VOCDataset\n",
    "from train_q2 import ResNet\n",
    "\n",
    "\n",
    "MODEL_PATH = rf\"E:\\courses\\16824\\hw1\\checkpoints\\q2_1e-4_0.3_6_50_aug_0.7929\\checkpoint-model-epoch32.pth\"\n",
    "NUM_IMAGES = 1000\n",
    "DEVICE = torch.device(\"cuda\" if torch.cuda.is_available() else \"cpu\")\n",
    "\n",
    "# Load model\n",
    "model = torch.load(MODEL_PATH, weights_only=False)\n",
    "model.to(DEVICE)\n",
    "model.eval()\n",
    "\n",
    "# Load data\n",
    "test_loader = utils.get_data_loader('voc', train=False, batch_size=32, split='test', inp_size=224)\n",
    "\n",
    "# Generate color map\n",
    "colors = plt.cm.get_cmap('tab20', len(VOCDataset.CLASS_NAMES)).colors\n",
    "CLASS_COLOR_MAP = {i: colors[i] for i in range(len(VOCDataset.CLASS_NAMES))}"
   ]
  },
  {
   "cell_type": "code",
   "execution_count": null,
   "id": "dbaae062",
   "metadata": {},
   "outputs": [],
   "source": [
    "# Define feature extraction hook\n",
    "features = []\n",
    "def hook_fn(module, input, output):\n",
    "    # .squeeze() to remove unnecessary dimensions\n",
    "    features.append(output.squeeze().detach().cpu().numpy())\n",
    "\n",
    "handle = model.resnet.avgpool.register_forward_hook(hook_fn)"
   ]
  },
  {
   "cell_type": "code",
   "execution_count": null,
   "id": "046e2b99",
   "metadata": {},
   "outputs": [],
   "source": [
    "all_labels = []\n",
    "with torch.no_grad():\n",
    "    for data, target, wgt in test_loader:\n",
    "        all_labels.append(target.numpy())\n",
    "        \n",
    "        data = data.to(DEVICE)\n",
    "        model(data)\n",
    "        \n",
    "        if len(features) * test_loader.batch_size >= NUM_IMAGES:\n",
    "            break\n",
    "\n",
    "handle.remove()\n",
    "\n",
    "# Collect to nd.array\n",
    "all_features_np = np.concatenate(features, axis=0)[:NUM_IMAGES]\n",
    "all_labels_np = np.concatenate(all_labels, axis=0)[:NUM_IMAGES]"
   ]
  },
  {
   "cell_type": "code",
   "execution_count": null,
   "id": "9eeba039",
   "metadata": {},
   "outputs": [],
   "source": [
    "tsne = TSNE(n_components=2, verbose=1, perplexity=40, max_iter=300)\n",
    "tsne_results = tsne.fit_transform(all_features_np)\n",
    "\n",
    "plot_colors = []\n",
    "for labels in all_labels_np:\n",
    "    active_class_indices = np.where(labels == 1)[0]\n",
    "    \n",
    "    if len(active_class_indices) == 0:\n",
    "        plot_colors.append(np.array([0.5, 0.5, 0.5]))\n",
    "    else:\n",
    "        active_colors = [CLASS_COLOR_MAP[i] for i in active_class_indices]\n",
    "        mean_color = np.mean(active_colors, axis=0)\n",
    "        plot_colors.append(mean_color)"
   ]
  },
  {
   "cell_type": "code",
   "execution_count": null,
   "id": "13d6ebd6",
   "metadata": {},
   "outputs": [],
   "source": [
    "plt.figure(figsize=(14, 10))\n",
    "plt.scatter(tsne_results[:, 0], tsne_results[:, 1], c=plot_colors, alpha=0.7, s=15)\n",
    "\n",
    "legend_patches = []\n",
    "for i, class_name in enumerate(VOCDataset.CLASS_NAMES):\n",
    "    patch = mpatches.Patch(color=CLASS_COLOR_MAP[i], label=class_name)\n",
    "    legend_patches.append(patch)\n",
    "\n",
    "plt.legend(handles=legend_patches, bbox_to_anchor=(1.05, 1), loc='upper left', borderaxespad=0.)\n",
    "\n",
    "plt.title('t-SNE Visualization of PASCAL VOC Features')\n",
    "plt.xlabel('t-SNE Component 1')\n",
    "plt.ylabel('t-SNE Component 2')\n",
    "plt.grid(True)\n",
    "plt.tight_layout()\n",
    "plt.show()"
   ]
  }
 ],
 "metadata": {
  "kernelspec": {
   "display_name": "16824",
   "language": "python",
   "name": "16824"
  },
  "language_info": {
   "codemirror_mode": {
    "name": "ipython",
    "version": 3
   },
   "file_extension": ".py",
   "mimetype": "text/x-python",
   "name": "python",
   "nbconvert_exporter": "python",
   "pygments_lexer": "ipython3",
   "version": "3.10.18"
  }
 },
 "nbformat": 4,
 "nbformat_minor": 5
}
